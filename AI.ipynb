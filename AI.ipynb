{
 "cells": [
  {
   "cell_type": "code",
   "execution_count": 3,
   "id": "a342dfbb",
   "metadata": {},
   "outputs": [
    {
     "name": "stdout",
     "output_type": "stream",
     "text": [
      "Found 4317 files belonging to 5 classes.\n",
      "Using 3454 files for training.\n"
     ]
    }
   ],
   "source": [
    "import pathlib\n",
    "import tensorflow as tf\n",
    "import PIL.Image\n",
    "\n",
    "data_dir = r'C:\\Users\\horin\\Desktop\\возращение блюдного сына\\Нейросети\\archive\\flowers'\n",
    "\n",
    "batch_size = 32\n",
    "img_height = 150\n",
    "img_weight = 150\n",
    "\n",
    "train_ds = tf.keras.utils.image_dataset_from_directory(\n",
    "    data_dir,\n",
    "    validation_split = 0.2,\n",
    "    subset = \"training\",\n",
    "    seed = 123,\n",
    "    image_size = (img_height, img_weight),\n",
    "    batch_size = batch_size\n",
    ")\n"
   ]
  },
  {
   "cell_type": "code",
   "execution_count": 4,
   "id": "f64ff5d5",
   "metadata": {},
   "outputs": [
    {
     "name": "stdout",
     "output_type": "stream",
     "text": [
      "Found 4317 files belonging to 5 classes.\n",
      "Using 863 files for validation.\n"
     ]
    }
   ],
   "source": [
    "val_ds = tf.keras.utils.image_dataset_from_directory(\n",
    "    data_dir,\n",
    "    validation_split = 0.2,\n",
    "    subset = \"validation\",\n",
    "    seed = 123,\n",
    "    image_size = (img_height, img_weight),\n",
    "    batch_size = batch_size\n",
    ")"
   ]
  },
  {
   "cell_type": "code",
   "execution_count": 5,
   "id": "ede9b37f",
   "metadata": {},
   "outputs": [
    {
     "name": "stdout",
     "output_type": "stream",
     "text": [
      "['daisy', 'dandelion', 'rose', 'sunflower', 'tulip']\n"
     ]
    }
   ],
   "source": [
    "class_names = train_ds.class_names\n",
    "print (class_names)"
   ]
  },
  {
   "cell_type": "code",
   "execution_count": 6,
   "id": "284c39d1",
   "metadata": {},
   "outputs": [
    {
     "name": "stdout",
     "output_type": "stream",
     "text": [
      "(32, 150, 150, 3)\n",
      "(32,)\n"
     ]
    }
   ],
   "source": [
    "for image_batch, labels_batch in train_ds:\n",
    "    print(image_batch.shape)\n",
    "    print(labels_batch.shape)\n",
    "    break"
   ]
  },
  {
   "cell_type": "code",
   "execution_count": 7,
   "id": "17351d45",
   "metadata": {},
   "outputs": [],
   "source": [
    "AUTOTUNE = tf.data.AUTOTUNE\n",
    "train_ds = train_ds.cache().prefetch(buffer_size=AUTOTUNE)\n",
    "val_ds = val_ds.cache().prefetch(buffer_size=AUTOTUNE)"
   ]
  },
  {
   "cell_type": "code",
   "execution_count": 9,
   "id": "0bb7a550",
   "metadata": {},
   "outputs": [],
   "source": [
    "num_classes = 5\n",
    "from tensorflow import keras\n",
    "from tensorflow.keras import layers\n",
    "from tensorflow.keras.models import Sequential\n",
    "\n",
    "num_classes = 5\n",
    "\n",
    "model = Sequential([\n",
    "    layers.Rescaling(1./255, input_shape = (img_height, img_weight, 3)),\n",
    "    layers.Conv2D(16, 3, padding = 'same', activation = 'relu'),\n",
    "    layers.MaxPooling2D(),\n",
    "    layers.Conv2D(32, 3, padding = 'same', activation = 'relu'),\n",
    "    layers.MaxPooling2D(),\n",
    "    layers.Conv2D(64, 3, padding = 'same', activation = 'relu'),\n",
    "    layers.MaxPooling2D(),\n",
    "    layers.Flatten(),\n",
    "    layers.Dense(256, activation = 'relu'),\n",
    "    layers.Dense(num_classes)\n",
    "])"
   ]
  },
  {
   "cell_type": "markdown",
   "id": "c3d3ad48",
   "metadata": {},
   "source": [
    "model.compile(\n",
    "optimizer = 'adam',\n",
    "loss=tf.losses.SparseCategoricalCrossentropy(from_logits=True),\n",
    "metrics = ['accuracy']\n",
    ")"
   ]
  },
  {
   "cell_type": "code",
   "execution_count": 10,
   "id": "3734d7a3",
   "metadata": {},
   "outputs": [],
   "source": [
    "model.compile(\n",
    "    optimizer = 'adam', \n",
    "    loss=tf.losses.SparseCategoricalCrossentropy(from_logits=True), \n",
    "    metrics = ['accuracy'] )"
   ]
  },
  {
   "cell_type": "code",
   "execution_count": 11,
   "id": "a9095578",
   "metadata": {},
   "outputs": [
    {
     "name": "stdout",
     "output_type": "stream",
     "text": [
      "Epoch 1/10\n",
      "108/108 [==============================] - 83s 727ms/step - loss: 1.2456 - accuracy: 0.4682 - val_loss: 1.0735 - val_accuracy: 0.5620\n",
      "Epoch 2/10\n",
      "108/108 [==============================] - 65s 599ms/step - loss: 0.9593 - accuracy: 0.6294 - val_loss: 0.9517 - val_accuracy: 0.6153\n",
      "Epoch 3/10\n",
      "108/108 [==============================] - 66s 614ms/step - loss: 0.7958 - accuracy: 0.6972 - val_loss: 0.9390 - val_accuracy: 0.6477\n",
      "Epoch 4/10\n",
      "108/108 [==============================] - 68s 630ms/step - loss: 0.6312 - accuracy: 0.7695 - val_loss: 1.0090 - val_accuracy: 0.6477\n",
      "Epoch 5/10\n",
      "108/108 [==============================] - 67s 625ms/step - loss: 0.4631 - accuracy: 0.8416 - val_loss: 1.2699 - val_accuracy: 0.6165\n",
      "Epoch 6/10\n",
      "108/108 [==============================] - 66s 609ms/step - loss: 0.4081 - accuracy: 0.8596 - val_loss: 1.4878 - val_accuracy: 0.5968\n",
      "Epoch 7/10\n",
      "108/108 [==============================] - 67s 618ms/step - loss: 0.2967 - accuracy: 0.8943 - val_loss: 1.4004 - val_accuracy: 0.6072\n",
      "Epoch 8/10\n",
      "108/108 [==============================] - 66s 612ms/step - loss: 0.1832 - accuracy: 0.9412 - val_loss: 1.8425 - val_accuracy: 0.6292\n",
      "Epoch 9/10\n",
      "108/108 [==============================] - 66s 610ms/step - loss: 0.1619 - accuracy: 0.9467 - val_loss: 1.6874 - val_accuracy: 0.6072\n",
      "Epoch 10/10\n",
      "108/108 [==============================] - 66s 615ms/step - loss: 0.1406 - accuracy: 0.9566 - val_loss: 1.6443 - val_accuracy: 0.6257\n"
     ]
    },
    {
     "data": {
      "text/plain": [
       "<keras.callbacks.History at 0x1fdb7bc0580>"
      ]
     },
     "execution_count": 11,
     "metadata": {},
     "output_type": "execute_result"
    }
   ],
   "source": [
    "model.fit(\n",
    "train_ds,\n",
    "validation_data=val_ds,\n",
    "epochs=10)"
   ]
  },
  {
   "cell_type": "code",
   "execution_count": 42,
   "id": "3c1ef0a8",
   "metadata": {},
   "outputs": [],
   "source": [
    "from PIL import Image\n",
    "\n",
    "image = Image.open(r'C:\\Users\\horin\\Desktop\\Нейросети\\archive\\flowers\\tulip\\5012813078_99fb977616_n.jpg')\n",
    "image.load()\n",
    "image.show()"
   ]
  },
  {
   "cell_type": "code",
   "execution_count": 43,
   "id": "dacab0d6",
   "metadata": {},
   "outputs": [
    {
     "name": "stdout",
     "output_type": "stream",
     "text": [
      "1/1 [==============================] - 0s 122ms/step\n",
      "tulip with a 99.83 percent\n"
     ]
    }
   ],
   "source": [
    "import numpy as np\n",
    "\n",
    "image = image.resize((150, 150))\n",
    "image_tensor = tf.convert_to_tensor(np.array(image), dtype = tf.float32)\n",
    "image_tensor = tf.expand_dims(image_tensor, 0)\n",
    "probability_model = tf.keras.Sequential([model, tf.keras.layers.Softmax()])\n",
    "\n",
    "predictions = probability_model.predict(image_tensor, use_multiprocessing=True)\n",
    "predictions[0]\n",
    "print(\"{} with a {:.2f} percent\"\n",
    "      .format(class_names[np.argmax(predictions[0])], 100* np.max(predictions[0]))\n",
    "     )"
   ]
  },
  {
   "cell_type": "code",
   "execution_count": null,
   "id": "1faedb50",
   "metadata": {},
   "outputs": [],
   "source": []
  }
 ],
 "metadata": {
  "kernelspec": {
   "display_name": "Python 3 (ipykernel)",
   "language": "python",
   "name": "python3"
  },
  "language_info": {
   "codemirror_mode": {
    "name": "ipython",
    "version": 3
   },
   "file_extension": ".py",
   "mimetype": "text/x-python",
   "name": "python",
   "nbconvert_exporter": "python",
   "pygments_lexer": "ipython3",
   "version": "3.10.5"
  }
 },
 "nbformat": 4,
 "nbformat_minor": 5
}
