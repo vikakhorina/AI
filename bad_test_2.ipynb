{
 "cells": [
  {
   "cell_type": "code",
   "execution_count": 1,
   "id": "4f521237",
   "metadata": {},
   "outputs": [
    {
     "name": "stdout",
     "output_type": "stream",
     "text": [
      "Found 4317 files belonging to 5 classes.\n",
      "Using 3454 files for training.\n"
     ]
    }
   ],
   "source": [
    "import pathlib\n",
    "import tensorflow as tf\n",
    "import PIL.Image\n",
    "\n",
    "data_dir = r'C:\\Users\\horin\\Desktop\\возращение блюдного сына\\Нейросети\\archive\\flowers'\n",
    "\n",
    "batch_size = 32\n",
    "img_height = 150\n",
    "img_weight = 150\n",
    "\n",
    "train_ds = tf.keras.utils.image_dataset_from_directory(\n",
    "    data_dir,\n",
    "    validation_split = 0.2,\n",
    "    subset = \"training\",\n",
    "    seed = 3,\n",
    "    image_size = (img_height, img_weight),\n",
    "    batch_size = batch_size\n",
    ")\n"
   ]
  },
  {
   "cell_type": "code",
   "execution_count": 2,
   "id": "7e53bee6",
   "metadata": {},
   "outputs": [
    {
     "name": "stdout",
     "output_type": "stream",
     "text": [
      "Found 4317 files belonging to 5 classes.\n",
      "Using 863 files for validation.\n"
     ]
    }
   ],
   "source": [
    "val_ds = tf.keras.utils.image_dataset_from_directory(\n",
    "    data_dir,\n",
    "    validation_split = 0.2,\n",
    "    subset = \"validation\",\n",
    "    seed = 3,\n",
    "    image_size = (img_height, img_weight),\n",
    "    batch_size = batch_size\n",
    ")"
   ]
  },
  {
   "cell_type": "code",
   "execution_count": 3,
   "id": "5c7e5c6b",
   "metadata": {},
   "outputs": [
    {
     "name": "stdout",
     "output_type": "stream",
     "text": [
      "['daisy', 'dandelion', 'rose', 'sunflower', 'tulip']\n"
     ]
    }
   ],
   "source": [
    "class_names = train_ds.class_names\n",
    "print (class_names)"
   ]
  },
  {
   "cell_type": "code",
   "execution_count": 4,
   "id": "284b5448",
   "metadata": {},
   "outputs": [
    {
     "name": "stdout",
     "output_type": "stream",
     "text": [
      "(32, 150, 150, 3)\n",
      "(32,)\n"
     ]
    }
   ],
   "source": [
    "for image_batch, labels_batch in train_ds:\n",
    "    print(image_batch.shape)\n",
    "    print(labels_batch.shape)\n",
    "    break"
   ]
  },
  {
   "cell_type": "code",
   "execution_count": 5,
   "id": "3c60de79",
   "metadata": {},
   "outputs": [],
   "source": [
    "AUTOTUNE = tf.data.AUTOTUNE\n",
    "train_ds = train_ds.cache().prefetch(buffer_size=AUTOTUNE)\n",
    "val_ds = val_ds.cache().prefetch(buffer_size=AUTOTUNE)"
   ]
  },
  {
   "cell_type": "code",
   "execution_count": 12,
   "id": "edeb8963",
   "metadata": {},
   "outputs": [],
   "source": [
    "num_classes = 5\n",
    "from tensorflow import keras\n",
    "from tensorflow.keras import layers\n",
    "from tensorflow.keras.models import Sequential\n",
    "\n",
    "num_classes = 5\n",
    "\n",
    "model = Sequential([\n",
    "    layers.Conv2D(filters = 32, kernel_size = (5,5),padding = 'Same',activation ='relu', input_shape = (150,150,3)),\n",
    "    layers.MaxPooling2D(pool_size=(2,2)),\n",
    "    \n",
    "    layers.Conv2D(filters = 64, kernel_size = (3,3),padding = 'Same',activation ='relu'),\n",
    "    layers.MaxPooling2D(pool_size=(2,2), strides=(2,2)),\n",
    "    \n",
    "    layers.Conv2D(filters =96, kernel_size = (3,3),padding = 'Same',activation ='relu'),\n",
    "    layers.MaxPooling2D(pool_size=(2,2), strides=(2,2)),\n",
    "    \n",
    "    layers.Conv2D(filters = 96, kernel_size = (3,3),padding = 'Same',activation ='relu'),\n",
    "    layers.MaxPooling2D(pool_size=(2,2), strides=(2,2)),\n",
    "    \n",
    "    layers.Flatten(),\n",
    "    layers.Dense(512),\n",
    "    layers.Activation('relu'),\n",
    "    layers.Dense(5, activation = \"softmax\")\n",
    "])"
   ]
  },
  {
   "cell_type": "code",
   "execution_count": 13,
   "id": "517b9d51",
   "metadata": {},
   "outputs": [],
   "source": [
    "model.compile(\n",
    "    optimizer = 'adam', \n",
    "    loss=tf.losses.SparseCategoricalCrossentropy(from_logits=True), \n",
    "    metrics = ['accuracy'] )"
   ]
  },
  {
   "cell_type": "code",
   "execution_count": 14,
   "id": "c8905992",
   "metadata": {},
   "outputs": [
    {
     "name": "stdout",
     "output_type": "stream",
     "text": [
      "Epoch 1/5\n"
     ]
    },
    {
     "name": "stderr",
     "output_type": "stream",
     "text": [
      "C:\\Users\\horin\\AppData\\Local\\Programs\\Python\\Python310\\lib\\site-packages\\keras\\backend.py:5582: UserWarning: \"`sparse_categorical_crossentropy` received `from_logits=True`, but the `output` argument was produced by a Softmax activation and thus does not represent logits. Was this intended?\n",
      "  output, from_logits = _get_logits(\n"
     ]
    },
    {
     "name": "stdout",
     "output_type": "stream",
     "text": [
      "108/108 [==============================] - 194s 2s/step - loss: 5.5195 - accuracy: 0.2956 - val_loss: 1.6073 - val_accuracy: 0.3615\n",
      "Epoch 2/5\n",
      "108/108 [==============================] - 180s 2s/step - loss: 1.3361 - accuracy: 0.4366 - val_loss: 1.2515 - val_accuracy: 0.4658\n",
      "Epoch 3/5\n",
      "108/108 [==============================] - 171s 2s/step - loss: 1.1622 - accuracy: 0.5165 - val_loss: 1.2647 - val_accuracy: 0.5110\n",
      "Epoch 4/5\n",
      "108/108 [==============================] - 180s 2s/step - loss: 1.0577 - accuracy: 0.5767 - val_loss: 1.2619 - val_accuracy: 0.4983\n",
      "Epoch 5/5\n",
      "108/108 [==============================] - 173s 2s/step - loss: 0.9443 - accuracy: 0.6213 - val_loss: 1.2259 - val_accuracy: 0.5504\n"
     ]
    },
    {
     "data": {
      "text/plain": [
       "<keras.callbacks.History at 0x2036c0d8280>"
      ]
     },
     "execution_count": 14,
     "metadata": {},
     "output_type": "execute_result"
    }
   ],
   "source": [
    "model.fit(\n",
    "train_ds,\n",
    "validation_data=val_ds,\n",
    "epochs = 5)"
   ]
  },
  {
   "cell_type": "code",
   "execution_count": null,
   "id": "b9c48ccb",
   "metadata": {},
   "outputs": [],
   "source": []
  }
 ],
 "metadata": {
  "kernelspec": {
   "display_name": "Python 3 (ipykernel)",
   "language": "python",
   "name": "python3"
  },
  "language_info": {
   "codemirror_mode": {
    "name": "ipython",
    "version": 3
   },
   "file_extension": ".py",
   "mimetype": "text/x-python",
   "name": "python",
   "nbconvert_exporter": "python",
   "pygments_lexer": "ipython3",
   "version": "3.10.5"
  }
 },
 "nbformat": 4,
 "nbformat_minor": 5
}
