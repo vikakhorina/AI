{
 "cells": [
  {
   "cell_type": "code",
   "execution_count": 1,
   "id": "5d53908e",
   "metadata": {},
   "outputs": [
    {
     "name": "stdout",
     "output_type": "stream",
     "text": [
      "Found 4317 files belonging to 5 classes.\n",
      "Using 3454 files for training.\n"
     ]
    }
   ],
   "source": [
    "import pathlib\n",
    "import tensorflow as tf\n",
    "import PIL.Image\n",
    "\n",
    "data_dir = r'C:\\Users\\horin\\Desktop\\возращение блюдного сына\\Нейросети\\archive\\flowers'\n",
    "\n",
    "batch_size = 32\n",
    "img_height = 150\n",
    "img_weight = 150\n",
    "\n",
    "train_ds = tf.keras.utils.image_dataset_from_directory(\n",
    "    data_dir,\n",
    "    validation_split = 0.2,\n",
    "    subset = \"training\",\n",
    "    seed = 3,\n",
    "    image_size = (img_height, img_weight),\n",
    "    batch_size = batch_size\n",
    ")\n"
   ]
  },
  {
   "cell_type": "code",
   "execution_count": 2,
   "id": "44a2698e",
   "metadata": {},
   "outputs": [
    {
     "name": "stdout",
     "output_type": "stream",
     "text": [
      "Found 4317 files belonging to 5 classes.\n",
      "Using 863 files for validation.\n"
     ]
    }
   ],
   "source": [
    "val_ds = tf.keras.utils.image_dataset_from_directory(\n",
    "    data_dir,\n",
    "    validation_split = 0.2,\n",
    "    subset = \"validation\",\n",
    "    seed = 3,\n",
    "    image_size = (img_height, img_weight),\n",
    "    batch_size = batch_size\n",
    ")"
   ]
  },
  {
   "cell_type": "code",
   "execution_count": 3,
   "id": "8db8d54c",
   "metadata": {},
   "outputs": [
    {
     "name": "stdout",
     "output_type": "stream",
     "text": [
      "['daisy', 'dandelion', 'rose', 'sunflower', 'tulip']\n"
     ]
    }
   ],
   "source": [
    "class_names = train_ds.class_names\n",
    "print (class_names)"
   ]
  },
  {
   "cell_type": "code",
   "execution_count": 4,
   "id": "8e5ed0e1",
   "metadata": {},
   "outputs": [
    {
     "name": "stdout",
     "output_type": "stream",
     "text": [
      "(32, 150, 150, 3)\n",
      "(32,)\n"
     ]
    }
   ],
   "source": [
    "for image_batch, labels_batch in train_ds:\n",
    "    print(image_batch.shape)\n",
    "    print(labels_batch.shape)\n",
    "    break"
   ]
  },
  {
   "cell_type": "code",
   "execution_count": 5,
   "id": "2fb5089a",
   "metadata": {},
   "outputs": [],
   "source": [
    "AUTOTUNE = tf.data.AUTOTUNE\n",
    "train_ds = train_ds.cache().prefetch(buffer_size=AUTOTUNE)\n",
    "val_ds = val_ds.cache().prefetch(buffer_size=AUTOTUNE)"
   ]
  },
  {
   "cell_type": "code",
   "execution_count": 6,
   "id": "9107044b",
   "metadata": {},
   "outputs": [],
   "source": [
    "num_classes = 5\n",
    "from tensorflow import keras\n",
    "from tensorflow.keras import layers\n",
    "from tensorflow.keras.models import Sequential\n",
    "\n",
    "num_classes = 5\n",
    "\n",
    "model = Sequential([\n",
    "    layers.Rescaling(1./255, input_shape = (img_height, img_weight, 3)),\n",
    "    layers.Conv2D(filters = 16, kernel_size = (5,5),padding = 'Same',activation ='relu', input_shape = (150,150,3)),\n",
    "    layers.MaxPooling2D(pool_size=(2,2)),\n",
    "    \n",
    "    layers.Conv2D(filters = 32, kernel_size = (3,3),padding = 'Same',activation ='relu'),\n",
    "    layers.MaxPooling2D(pool_size=(2,2), strides=(2,2)),\n",
    "    \n",
    "    layers.Conv2D(filters =64, kernel_size = (3,3),padding = 'Same',activation ='relu'),\n",
    "    layers.MaxPooling2D(pool_size=(2,2), strides=(2,2)),\n",
    "    \n",
    "    layers.Conv2D(filters = 96, kernel_size = (3,3),padding = 'Same',activation ='relu'),\n",
    "    layers.MaxPooling2D(pool_size=(2,2), strides=(2,2)),\n",
    "    \n",
    "    layers.Flatten(),\n",
    "    layers.Dense(512),\n",
    "    layers.Activation('relu'),\n",
    "    layers.Dense(5, activation = \"softmax\")\n",
    "])"
   ]
  },
  {
   "cell_type": "code",
   "execution_count": 7,
   "id": "a57e9ebe",
   "metadata": {},
   "outputs": [],
   "source": [
    "model.compile(\n",
    "    optimizer = 'adam', \n",
    "    loss=tf.losses.SparseCategoricalCrossentropy(from_logits=True), \n",
    "    metrics = ['accuracy'] )"
   ]
  },
  {
   "cell_type": "code",
   "execution_count": 8,
   "id": "8da4780b",
   "metadata": {},
   "outputs": [
    {
     "name": "stdout",
     "output_type": "stream",
     "text": [
      "Epoch 1/10\n"
     ]
    },
    {
     "name": "stderr",
     "output_type": "stream",
     "text": [
      "C:\\Users\\horin\\AppData\\Local\\Programs\\Python\\Python310\\lib\\site-packages\\keras\\backend.py:5582: UserWarning: \"`sparse_categorical_crossentropy` received `from_logits=True`, but the `output` argument was produced by a Softmax activation and thus does not represent logits. Was this intended?\n",
      "  output, from_logits = _get_logits(\n"
     ]
    },
    {
     "name": "stdout",
     "output_type": "stream",
     "text": [
      "108/108 [==============================] - 143s 1s/step - loss: 1.2705 - accuracy: 0.4624 - val_loss: 1.0802 - val_accuracy: 0.5852\n",
      "Epoch 2/10\n",
      "108/108 [==============================] - 86s 792ms/step - loss: 1.0153 - accuracy: 0.6005 - val_loss: 1.0130 - val_accuracy: 0.6199\n",
      "Epoch 3/10\n",
      "108/108 [==============================] - 86s 797ms/step - loss: 0.8912 - accuracy: 0.6569 - val_loss: 1.0159 - val_accuracy: 0.6118\n",
      "Epoch 4/10\n",
      "108/108 [==============================] - 88s 811ms/step - loss: 0.7536 - accuracy: 0.7122 - val_loss: 1.0121 - val_accuracy: 0.6304\n",
      "Epoch 5/10\n",
      "108/108 [==============================] - 86s 798ms/step - loss: 0.6220 - accuracy: 0.7672 - val_loss: 1.0499 - val_accuracy: 0.6350\n",
      "Epoch 6/10\n",
      "108/108 [==============================] - 87s 805ms/step - loss: 0.5089 - accuracy: 0.8135 - val_loss: 1.2411 - val_accuracy: 0.6327\n",
      "Epoch 7/10\n",
      "108/108 [==============================] - 88s 813ms/step - loss: 0.4581 - accuracy: 0.8312 - val_loss: 1.3729 - val_accuracy: 0.6211\n",
      "Epoch 8/10\n",
      "108/108 [==============================] - 86s 796ms/step - loss: 0.3382 - accuracy: 0.8743 - val_loss: 1.4573 - val_accuracy: 0.6373\n",
      "Epoch 9/10\n",
      "108/108 [==============================] - 86s 796ms/step - loss: 0.2586 - accuracy: 0.9039 - val_loss: 1.7829 - val_accuracy: 0.6141\n",
      "Epoch 10/10\n",
      "108/108 [==============================] - 86s 799ms/step - loss: 0.1924 - accuracy: 0.9351 - val_loss: 2.0851 - val_accuracy: 0.5991\n"
     ]
    },
    {
     "data": {
      "text/plain": [
       "<keras.callbacks.History at 0x2b5f47672e0>"
      ]
     },
     "execution_count": 8,
     "metadata": {},
     "output_type": "execute_result"
    }
   ],
   "source": [
    "model.fit(\n",
    "train_ds,\n",
    "validation_data=val_ds,\n",
    "epochs = 10)"
   ]
  },
  {
   "cell_type": "code",
   "execution_count": 11,
   "id": "9b99bc65",
   "metadata": {},
   "outputs": [],
   "source": [
    "from PIL import Image\n",
    "\n",
    "image = Image.open(r'C:\\Users\\horin\\Desktop\\A_rose_flower.jpg')\n",
    "image.load()\n",
    "image.show()"
   ]
  },
  {
   "cell_type": "code",
   "execution_count": 12,
   "id": "69626549",
   "metadata": {},
   "outputs": [
    {
     "name": "stdout",
     "output_type": "stream",
     "text": [
      "1/1 [==============================] - 0s 388ms/step\n",
      "tulip with a 40.46 percent\n"
     ]
    }
   ],
   "source": [
    "import numpy as np\n",
    "\n",
    "image = image.resize((150, 150))\n",
    "image_tensor = tf.convert_to_tensor(np.array(image), dtype = tf.float32)\n",
    "image_tensor = tf.expand_dims(image_tensor, 0)\n",
    "probability_model = tf.keras.Sequential([model, tf.keras.layers.Softmax()])\n",
    "\n",
    "predictions = probability_model.predict(image_tensor, use_multiprocessing=True)\n",
    "predictions[0]\n",
    "print(\"{} with a {:.2f} percent\"\n",
    "      .format(class_names[np.argmax(predictions[0])], 100* np.max(predictions[0]))\n",
    "     )"
   ]
  },
  {
   "cell_type": "code",
   "execution_count": null,
   "id": "c343e7f5",
   "metadata": {},
   "outputs": [],
   "source": []
  }
 ],
 "metadata": {
  "kernelspec": {
   "display_name": "Python 3 (ipykernel)",
   "language": "python",
   "name": "python3"
  },
  "language_info": {
   "codemirror_mode": {
    "name": "ipython",
    "version": 3
   },
   "file_extension": ".py",
   "mimetype": "text/x-python",
   "name": "python",
   "nbconvert_exporter": "python",
   "pygments_lexer": "ipython3",
   "version": "3.10.5"
  }
 },
 "nbformat": 4,
 "nbformat_minor": 5
}
